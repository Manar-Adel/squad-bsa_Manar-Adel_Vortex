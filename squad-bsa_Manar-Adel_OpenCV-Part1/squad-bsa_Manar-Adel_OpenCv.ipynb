{
 "cells": [
  {
   "cell_type": "code",
   "execution_count": 2,
   "metadata": {},
   "outputs": [
    {
     "data": {
      "text/plain": [
       "<matplotlib.image.AxesImage at 0x7ff116303910>"
      ]
     },
     "execution_count": 2,
     "metadata": {},
     "output_type": "execute_result"
    },
    {
     "data": {
      "image/png": "[encoded data removed]",
      "text/plain": [
       "<Figure size 640x480 with 1 Axes>"
      ]
     },
     "metadata": {},
     "output_type": "display_data"
    }
   ],
   "source": [
    "#task1\n",
    "import matplotlib.pyplot as plt\n",
    "import cv2 as cv\n",
    "import numpy as np\n",
    "import random\n",
    "\n",
    "r  = 0\n",
    "g  = 0\n",
    "b= 0\n",
    "\n",
    "#task 1\n",
    "x=[(0,50),(50,100),(0,50),(50,100)]\n",
    "y=[(0,50),(0,50),(50,100),(50,100)]\n",
    "\n",
    "img=np.zeros((100,100,3),np.uint8) #full frame in black\n",
    "\n",
    "for i in range (4):\n",
    "    #choose random color for each square\n",
    "    r = random.randint(0, 255)\n",
    "    g = random.randint(0, 255)\n",
    "    b = random.randint(0, 255)\n",
    "    img[x[i][0]:x[i][1], y[i][0]: y[i][1]] = r, g, b\n",
    "\n",
    "\n",
    "\n",
    "img=cv.resize(img,(200,200))\n",
    "plt.imshow(img)\n"
   ]
  },
  {
   "cell_type": "code",
   "execution_count": null,
   "metadata": {},
   "outputs": [],
   "source": [
    "# task 2\n",
    "\n",
    "import cv2 as cv\n",
    "import matplotlib.pyplot as plt\n",
    "\n",
    "# Read frames from any camera. Press Q to terminate the code,\n",
    "# R to rotate the frame 90 degrees,\n",
    "# C to save the frame on your device,\n",
    "# S to save a video stream using OpenCV.\n",
    "# G to convert the frame to grayscale,\n",
    "# H to convert the frame to HSV space, and\n",
    "# X to show (grayscale, HSV, rotated and original frames) together,\n",
    "# Z to show only the original frame.\n",
    "\n",
    "vid = cv.VideoCapture(0)\n",
    "cap = 0\n",
    "angle=0\n",
    "\n",
    "r = 0\n",
    "g = 0\n",
    "h = 0\n",
    "x = 0\n",
    "s = 0\n",
    "width, height = 1280, 720\n",
    "saved = cv.VideoWriter(\"video.avi\", cv.VideoWriter_fourcc(*'MJPG'), 20.0, (720, 480))\n",
    "\n",
    "while 1:\n",
    "    success, img = vid.read()\n",
    "    # img = cv.resize(img,(width,height))\n",
    "\n",
    "    if x:  # X to show (grayscale, HSV, rotated and original frames) together\n",
    "        gray = cv.cvtColor(img, cv.COLOR_BGR2GRAY)  # grayscale\n",
    "        hsv = cv.cvtColor(img, cv.COLOR_BGR2HSV)  # hsv\n",
    "        M = cv.getRotationMatrix2D((width / 2, height / 2), angle, 1)  # rotated\n",
    "        rotate = cv.warpAffine(img, M, (width, height))\n",
    "        cv.imshow(\"GRAY\", gray)\n",
    "        cv.imshow(\"HSV\", hsv)\n",
    "        cv.imshow(\"Rotated\", rotate)\n",
    "    if g:  # G to convert the frame to grayscale,\n",
    "        img = cv.cvtColor(img, cv.COLOR_BGR2GRAY)  # grayscale\n",
    "    if h:  # H to convert the frame to HSV space\n",
    "        img = cv.cvtColor(img, cv.COLOR_BGR2HSV)\n",
    "    if r >= 1:  # R to rotate the frame 90 degrees\n",
    "        if r == 1:\n",
    "            angle = 90\n",
    "        if r == 2:\n",
    "            angle = 180\n",
    "        if r == 3:\n",
    "            angle = 180 + 90\n",
    "        if r == 4:\n",
    "            angle = 0\n",
    "        M = cv.getRotationMatrix2D((width / 2, height / 2), angle, 1)\n",
    "        img = cv.warpAffine(img, M, (width, height))\n",
    "    if s:  # S to save a video stream using OpenCV\n",
    "        saved.write(img)\n",
    "    cv.imshow(\"Task 2\", img)\n",
    "    input = cv.waitKey(1)\n",
    "\n",
    "    # key pressing:\n",
    "\n",
    "    if input == ord('c'):  # C to save the frame on your device\n",
    "        cv.imwrite(f\"img {cap}.png\", img)\n",
    "        cap += 1\n",
    "    elif input == ord('s'):\n",
    "        s = 1\n",
    "    elif input == ord('g'):\n",
    "        g, h, x = 1, 0, 0\n",
    "    elif input == ord('h'):\n",
    "        h, g, x = 1, 0, 0\n",
    "    elif input == ord('z'):  # Z to show only the original frame.\n",
    "        if x:\n",
    "            cv.destroyAllWindows()\n",
    "        g = h = x = r = 0\n",
    "    elif input == ord('r'):\n",
    "        r = r + 1\n",
    "        x = 0\n",
    "        if r == 4:\n",
    "            r = 0\n",
    "\n",
    "    elif input == ord('x'):\n",
    "        x, h, g = 1, 0, 0\n",
    "    elif input == ord('q'):\n",
    "        break\n",
    "if s:  # S to save a video stream using OpenCV.\n",
    "    vid.release()\n",
    "    saved.release()"
   ]
  }
 ],
 "metadata": {
  "kernelspec": {
   "display_name": "Python 3.7.6 ('STUDYsession': venv)",
   "language": "python",
   "name": "python3"
  },
  "language_info": {
   "codemirror_mode": {
    "name": "ipython",
    "version": 3
   },
   "file_extension": ".py",
   "mimetype": "text/x-python",
   "name": "python",
   "nbconvert_exporter": "python",
   "pygments_lexer": "ipython3",
   "version": "3.7.6"
  },
  "orig_nbformat": 4,
  "vscode": {
   "interpreter": {
    "hash": "809733220d8bdd3d5cf29f0fb7c227ca9e83358b8a7cf56494c69554963ea0fe"
   }
  }
 },
 "nbformat": 4,
 "nbformat_minor": 2
}
